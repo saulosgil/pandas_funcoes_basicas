{
 "cells": [
  {
   "cell_type": "markdown",
   "metadata": {},
   "source": [
    "# Pandas -  A potente biblioteca para análise de dados do Python\n",
    " - ### Explorando funções básicas \n"
   ]
  },
  {
   "cell_type": "markdown",
   "metadata": {},
   "source": [
    "Pandas é uma biblioteca de software de código aberto amplamente utilizada na linguagem de programação Python para manipulação e análise de dados. Foi criada por Wes McKinney em 2008 enquanto trabalhava na AQR Capital Management e desde então se tornou uma das ferramentas mais populares para análise de dados em Python.\n",
    "\n",
    "O Pandas oferece estruturas de dados flexíveis e eficientes, especialmente duas estruturas principais: Series e DataFrame.\n",
    "\n",
    "- *Series* é uma estrutura unidimensional que pode armazenar dados de qualquer tipo;\n",
    "\n",
    "- *DataFrame* é uma estrutura bidimensional que se assemelha a uma planilha, com linhas e colunas rotuladas, permitindo manipulação de dados de forma poderosa e intuitiva.\n",
    "\n",
    "Além das estruturas de dados, o Pandas fornece uma ampla gama de funcionalidades para ler e escrever dados em diversos formatos, como CSV, Excel, SQL, JSON, entre outros. \n",
    "\n",
    "Ele também oferece funcionalidades para limpeza, transformação, agregação e análise de dados, tornando-o uma ferramenta essencial para cientistas de dados, analistas e desenvolvedores que trabalham com dados em Python.\n",
    "\n",
    "Neste notebook, eu irei aplicar algumas funções do Pandas pra exemplificar. "
   ]
  },
  {
   "cell_type": "markdown",
   "metadata": {},
   "source": [
    "## 1. Estrutura de dados\n",
    "\n",
    "O Pandas fornece duas estruturas de dados fundamentais: Series e DataFrame.\n",
    "\n",
    "Compreender essas estruturas de dados é essencial para um tratamento eficaz de dados com o Pandas."
   ]
  },
  {
   "cell_type": "markdown",
   "metadata": {},
   "source": [
    "### 1.1 Series\n",
    "*Series* é uma matriz rotulada unidimensional que pode conter vários tipos de dados, como inteiros, flutuantes, strings ou até mesmo objetos personalizados. É semelhante a uma coluna em uma planilha do Excel ou a uma única coluna em uma tabela SQL.\n",
    "\n",
    "Os principais recursos da série incluem:\n",
    "\n",
    "- ***Rotulagem***: Cada elemento de uma Serie possui um rótulo ou índice, que permite fácil acesso e manipulação de dados;\n",
    "\n",
    "- ***Dados homogêneos***: Ao contrário das listas em Python, Series normalmente armazena dados do mesmo tipo, garantindo consistência.\n",
    "\n",
    "- ***Operações vetorizadas***: você pode realizar operações vetorizadas em séries, tornando-as eficientes para cálculos elemento a elemento. Este recurso permite executar operações com eficiência em colunas ou séries inteiras sem a necessidade de loops explícitos. É possivel adicionar, subtrair e multiplicar as séries (colunas de um dataframe) por uma série ou escalar.\n",
    "\n",
    "**Vamos criar uma Serie e aplicar uma função vetorizada para visualizar!**"
   ]
  },
  {
   "cell_type": "code",
   "execution_count": 70,
   "metadata": {},
   "outputs": [
    {
     "data": {
      "text/plain": [
       "0    2\n",
       "1    4\n",
       "2    6\n",
       "3    8\n",
       "Name: MySeries, dtype: int64"
      ]
     },
     "execution_count": 70,
     "metadata": {},
     "output_type": "execute_result"
    }
   ],
   "source": [
    "import pandas as pd\n",
    "\n",
    "data = [1, 2, 3, 4]\n",
    "series = pd.Series(data, name='MySeries')\n",
    "\n",
    "# Operação vetorizada\n",
    "series = series * 2 \n",
    "series"
   ]
  },
  {
   "cell_type": "markdown",
   "metadata": {},
   "source": [
    "### 1.2 DataFrame\n",
    "\n",
    "Um DataFrame é uma estrutura de dados tabular bidimensional com eixos rotulados (linhas e colunas). \n",
    "\n",
    "Assemelha-se a uma planilha ou tabela SQL e é a principal estrutura de dados para análise de dados no Pandas.\n",
    "\n",
    "Os principais recursos dos DataFrames incluem:\n",
    "\n",
    " - ***Colunas***: Cada coluna em um DataFrame é uma Serie, o que significa que pode conter diferentes tipos de dados;\n",
    "\n",
    "- ***Indexação***: DataFrames possuem índices de linha e coluna, permitindo uma seleção flexível de dados;\n",
    "\n",
    "- ***Alinhamento de dados***: Assim como o Series, os DataFrames podem alinhar dados com base em rótulos, tornando as operações fáceis e intuitivas;\n",
    "\n",
    "- ***Integração de dados***: você pode mesclar, unir e concatenar DataFrames para combinar e analisar dados de várias fontes.\n",
    "\n",
    "**Vamos criar um dataframe e aplicar uma função para renomear as colunas!**"
   ]
  },
  {
   "cell_type": "code",
   "execution_count": 71,
   "metadata": {},
   "outputs": [
    {
     "data": {
      "text/plain": [
       "dict"
      ]
     },
     "execution_count": 71,
     "metadata": {},
     "output_type": "execute_result"
    }
   ],
   "source": [
    "import pandas as pd\n",
    "\n",
    "data = {\n",
    " \"Name\": [\"Alice\", \"Bob\", \"Charlie\", \"David\"],\n",
    " \"Age\": [25, 30, 35, 40],\n",
    " \"City\": [\"New York\", \"San Francisco\", \"Los Angeles\", \"Chicago\"]\n",
    "}\n",
    "\n",
    "'''No formato acima, o objeto data é um dict. \n",
    "Veja o retorno do código abaixo.'''\n",
    "type(data)"
   ]
  },
  {
   "cell_type": "code",
   "execution_count": 72,
   "metadata": {},
   "outputs": [
    {
     "data": {
      "text/plain": [
       "pandas.core.frame.DataFrame"
      ]
     },
     "execution_count": 72,
     "metadata": {},
     "output_type": "execute_result"
    }
   ],
   "source": [
    "# transformando em um dataframe\n",
    "df = pd.DataFrame(data)\n",
    "\n",
    "# Pronto, agora é um df\n",
    "type(df)"
   ]
  },
  {
   "cell_type": "markdown",
   "metadata": {},
   "source": [
    "#### Dando uma olhadinha no df"
   ]
  },
  {
   "cell_type": "code",
   "execution_count": 73,
   "metadata": {},
   "outputs": [
    {
     "data": {
      "text/html": [
       "<div>\n",
       "<style scoped>\n",
       "    .dataframe tbody tr th:only-of-type {\n",
       "        vertical-align: middle;\n",
       "    }\n",
       "\n",
       "    .dataframe tbody tr th {\n",
       "        vertical-align: top;\n",
       "    }\n",
       "\n",
       "    .dataframe thead th {\n",
       "        text-align: right;\n",
       "    }\n",
       "</style>\n",
       "<table border=\"1\" class=\"dataframe\">\n",
       "  <thead>\n",
       "    <tr style=\"text-align: right;\">\n",
       "      <th></th>\n",
       "      <th>Name</th>\n",
       "      <th>Age</th>\n",
       "      <th>City</th>\n",
       "    </tr>\n",
       "  </thead>\n",
       "  <tbody>\n",
       "    <tr>\n",
       "      <th>0</th>\n",
       "      <td>Alice</td>\n",
       "      <td>25</td>\n",
       "      <td>New York</td>\n",
       "    </tr>\n",
       "    <tr>\n",
       "      <th>1</th>\n",
       "      <td>Bob</td>\n",
       "      <td>30</td>\n",
       "      <td>San Francisco</td>\n",
       "    </tr>\n",
       "    <tr>\n",
       "      <th>2</th>\n",
       "      <td>Charlie</td>\n",
       "      <td>35</td>\n",
       "      <td>Los Angeles</td>\n",
       "    </tr>\n",
       "    <tr>\n",
       "      <th>3</th>\n",
       "      <td>David</td>\n",
       "      <td>40</td>\n",
       "      <td>Chicago</td>\n",
       "    </tr>\n",
       "  </tbody>\n",
       "</table>\n",
       "</div>"
      ],
      "text/plain": [
       "      Name  Age           City\n",
       "0    Alice   25       New York\n",
       "1      Bob   30  San Francisco\n",
       "2  Charlie   35    Los Angeles\n",
       "3    David   40        Chicago"
      ]
     },
     "execution_count": 73,
     "metadata": {},
     "output_type": "execute_result"
    }
   ],
   "source": [
    "df.head()"
   ]
  },
  {
   "cell_type": "markdown",
   "metadata": {},
   "source": [
    "#### Renomeando as colunas com Pandas"
   ]
  },
  {
   "cell_type": "code",
   "execution_count": 74,
   "metadata": {},
   "outputs": [
    {
     "data": {
      "text/html": [
       "<div>\n",
       "<style scoped>\n",
       "    .dataframe tbody tr th:only-of-type {\n",
       "        vertical-align: middle;\n",
       "    }\n",
       "\n",
       "    .dataframe tbody tr th {\n",
       "        vertical-align: top;\n",
       "    }\n",
       "\n",
       "    .dataframe thead th {\n",
       "        text-align: right;\n",
       "    }\n",
       "</style>\n",
       "<table border=\"1\" class=\"dataframe\">\n",
       "  <thead>\n",
       "    <tr style=\"text-align: right;\">\n",
       "      <th></th>\n",
       "      <th>Person_Name</th>\n",
       "      <th>Age</th>\n",
       "      <th>City</th>\n",
       "    </tr>\n",
       "  </thead>\n",
       "  <tbody>\n",
       "    <tr>\n",
       "      <th>0</th>\n",
       "      <td>Alice</td>\n",
       "      <td>25</td>\n",
       "      <td>New York</td>\n",
       "    </tr>\n",
       "    <tr>\n",
       "      <th>1</th>\n",
       "      <td>Bob</td>\n",
       "      <td>30</td>\n",
       "      <td>San Francisco</td>\n",
       "    </tr>\n",
       "    <tr>\n",
       "      <th>2</th>\n",
       "      <td>Charlie</td>\n",
       "      <td>35</td>\n",
       "      <td>Los Angeles</td>\n",
       "    </tr>\n",
       "    <tr>\n",
       "      <th>3</th>\n",
       "      <td>David</td>\n",
       "      <td>40</td>\n",
       "      <td>Chicago</td>\n",
       "    </tr>\n",
       "  </tbody>\n",
       "</table>\n",
       "</div>"
      ],
      "text/plain": [
       "  Person_Name  Age           City\n",
       "0       Alice   25       New York\n",
       "1         Bob   30  San Francisco\n",
       "2     Charlie   35    Los Angeles\n",
       "3       David   40        Chicago"
      ]
     },
     "execution_count": 74,
     "metadata": {},
     "output_type": "execute_result"
    }
   ],
   "source": [
    "# Renaming the 'Name' column to 'Person_Name'\n",
    "df.rename(columns={'Name':'Person_Name'})"
   ]
  },
  {
   "cell_type": "markdown",
   "metadata": {},
   "source": [
    "## Carregamento de dados e inspeção inicial"
   ]
  },
  {
   "cell_type": "markdown",
   "metadata": {},
   "source": [
    "#### 2.1 Lendo dados de diferentes formatos (CSV, Excel, SQL, etc.)\n",
    "\n",
    "Pandas fornece uma ampla variedade de funções e métodos para carregar dados de várias fontes e formatos com eficiência em DataFrames."
   ]
  },
  {
   "cell_type": "code",
   "execution_count": 75,
   "metadata": {},
   "outputs": [
    {
     "data": {
      "text/plain": [
       "'\\nNenhum dos códigos funcionam, servem apenas como exemplo de sintaxe.\\n'"
      ]
     },
     "execution_count": 75,
     "metadata": {},
     "output_type": "execute_result"
    }
   ],
   "source": [
    "'''\n",
    "import pandas as pd\n",
    "\n",
    "# carrega dados de um csv pelo nome - data.csv\n",
    "df_csv = pd.read_csv('data.csv')\n",
    "\n",
    "# arrega dados de um excel pelo nome - data.xlsx\n",
    "df_excel = pd.read_excel('data.xlsx')\n",
    "\n",
    "# Especificando a aba do excel\n",
    "df_sheet1 = pd.read_excel('data.xlsx', sheet_name='Sheet1')\n",
    "\n",
    "# Crie um mecanismo SQLAlchemy\n",
    "from sqlalchemy import create_engine\n",
    "engine = create_engine('sqlite:///mydatabase.db')\n",
    "\n",
    "# Carrega dados de uma tabela de banco de dados SQL\n",
    "query = 'SELECT * FROM mytable'\n",
    "df_sql = pd.read_sql_query(query, engine)\n",
    "\n",
    "# Carregar dados de uma tabela HTML em uma página da web\n",
    "url = 'https://example.com/data-table.html'\n",
    "df_html_table = pd.read_html(url)\n",
    "\n",
    "# Carregar dados de um arquivo JSON\n",
    "df_json = pd.read_json('data.json')\n",
    "\n",
    "# Carregar dados do arquivo Parquet\n",
    "df_parquet = pd.read_parquet('data.parquet')\n",
    "'''\n",
    "\n",
    "'''\n",
    "Nenhum dos códigos funcionam, servem apenas como exemplo de sintaxe.\n",
    "'''"
   ]
  },
  {
   "cell_type": "markdown",
   "metadata": {},
   "source": [
    "****Parâmetros importantes a serem lembrados para usar o read_csv:****\n",
    "\n",
    "- **1. filepath**: especifica o caminho para o arquivo CSV que você deseja ler. Você pode fornecer um caminho de arquivo (como uma string), uma URL ou um objeto semelhante a um arquivo;\n",
    "\n",
    "- **2.** Para substituir nomes de colunas, você deve usar **names** como um parâmetro com a lista de novos nomes de colunas;\n",
    "\n",
    "- **3. sep**: significa \"separador\" e define o caractere usado para separar campos no arquivo CSV. O padrão é uma vírgula (,), mas você pode especificar outros caracteres, como tabulações ('\\t'), ponto e vírgula (';') ou qualquer delimitador personalizado;\n",
    "\n",
    "- **4. index_col**: é o parâmetro que especifica quais colunas devem ser usadas como índice de quadros de dados. Você pode passar um nome de coluna ou um índice de coluna (baseado em 0) para esse parâmetro;\n",
    "\n",
    "- **5. skiprows**: permite pular um número específico de linhas no início do arquivo CSV. Pode ser útil se houver metadados ou comentários no início do arquivo que você deseja ignorar."
   ]
  },
  {
   "cell_type": "markdown",
   "metadata": {},
   "source": [
    "#### 2.2 Exibindo DataFrames\n"
   ]
  },
  {
   "cell_type": "markdown",
   "metadata": {},
   "source": [
    "Em geral, exibir um dataframe é o primeiro passo para compreender seu conteúdo. Você pode simplesmente digitar o nome do dataframe e executar a célula para ver as 5 linhas superiores e as 5 linhas inferiores. \n",
    "\n",
    "o Pandas oferece vários outros métodos para exibir diferentes partes do seu quadro de dados:\n",
    "\n",
    " - ****.head(n)****: Exibe as primeiras n linhas do quadro de dados. É útil para obter uma visão geral rápida da estrutura dos dados sem se sobrecarregar com muitas informações ou, se quiser apenas ver os nomes das colunas, você pode usar .columns;\n",
    "\n",
    "- ****.tail(n)****: Semelhante a .head(), este método mostra as últimas n linhas do DataFrame. É útil para verificar o final do conjunto de dados;\n",
    "\n",
    "- ****.sample(n)****: Serve para ver linhas aleatórias do DataFrame."
   ]
  },
  {
   "cell_type": "code",
   "execution_count": 76,
   "metadata": {},
   "outputs": [
    {
     "data": {
      "text/html": [
       "<div>\n",
       "<style scoped>\n",
       "    .dataframe tbody tr th:only-of-type {\n",
       "        vertical-align: middle;\n",
       "    }\n",
       "\n",
       "    .dataframe tbody tr th {\n",
       "        vertical-align: top;\n",
       "    }\n",
       "\n",
       "    .dataframe thead th {\n",
       "        text-align: right;\n",
       "    }\n",
       "</style>\n",
       "<table border=\"1\" class=\"dataframe\">\n",
       "  <thead>\n",
       "    <tr style=\"text-align: right;\">\n",
       "      <th></th>\n",
       "      <th>Name</th>\n",
       "      <th>Age</th>\n",
       "      <th>City</th>\n",
       "    </tr>\n",
       "  </thead>\n",
       "  <tbody>\n",
       "    <tr>\n",
       "      <th>0</th>\n",
       "      <td>Alice</td>\n",
       "      <td>25</td>\n",
       "      <td>New York</td>\n",
       "    </tr>\n",
       "    <tr>\n",
       "      <th>1</th>\n",
       "      <td>Bob</td>\n",
       "      <td>30</td>\n",
       "      <td>San Francisco</td>\n",
       "    </tr>\n",
       "    <tr>\n",
       "      <th>2</th>\n",
       "      <td>Charlie</td>\n",
       "      <td>35</td>\n",
       "      <td>Los Angeles</td>\n",
       "    </tr>\n",
       "    <tr>\n",
       "      <th>3</th>\n",
       "      <td>David</td>\n",
       "      <td>40</td>\n",
       "      <td>Chicago</td>\n",
       "    </tr>\n",
       "  </tbody>\n",
       "</table>\n",
       "</div>"
      ],
      "text/plain": [
       "      Name  Age           City\n",
       "0    Alice   25       New York\n",
       "1      Bob   30  San Francisco\n",
       "2  Charlie   35    Los Angeles\n",
       "3    David   40        Chicago"
      ]
     },
     "execution_count": 76,
     "metadata": {},
     "output_type": "execute_result"
    }
   ],
   "source": [
    "df.head()"
   ]
  },
  {
   "cell_type": "code",
   "execution_count": 77,
   "metadata": {},
   "outputs": [
    {
     "data": {
      "text/html": [
       "<div>\n",
       "<style scoped>\n",
       "    .dataframe tbody tr th:only-of-type {\n",
       "        vertical-align: middle;\n",
       "    }\n",
       "\n",
       "    .dataframe tbody tr th {\n",
       "        vertical-align: top;\n",
       "    }\n",
       "\n",
       "    .dataframe thead th {\n",
       "        text-align: right;\n",
       "    }\n",
       "</style>\n",
       "<table border=\"1\" class=\"dataframe\">\n",
       "  <thead>\n",
       "    <tr style=\"text-align: right;\">\n",
       "      <th></th>\n",
       "      <th>Name</th>\n",
       "      <th>Age</th>\n",
       "      <th>City</th>\n",
       "    </tr>\n",
       "  </thead>\n",
       "  <tbody>\n",
       "    <tr>\n",
       "      <th>0</th>\n",
       "      <td>Alice</td>\n",
       "      <td>25</td>\n",
       "      <td>New York</td>\n",
       "    </tr>\n",
       "    <tr>\n",
       "      <th>1</th>\n",
       "      <td>Bob</td>\n",
       "      <td>30</td>\n",
       "      <td>San Francisco</td>\n",
       "    </tr>\n",
       "    <tr>\n",
       "      <th>2</th>\n",
       "      <td>Charlie</td>\n",
       "      <td>35</td>\n",
       "      <td>Los Angeles</td>\n",
       "    </tr>\n",
       "    <tr>\n",
       "      <th>3</th>\n",
       "      <td>David</td>\n",
       "      <td>40</td>\n",
       "      <td>Chicago</td>\n",
       "    </tr>\n",
       "  </tbody>\n",
       "</table>\n",
       "</div>"
      ],
      "text/plain": [
       "      Name  Age           City\n",
       "0    Alice   25       New York\n",
       "1      Bob   30  San Francisco\n",
       "2  Charlie   35    Los Angeles\n",
       "3    David   40        Chicago"
      ]
     },
     "execution_count": 77,
     "metadata": {},
     "output_type": "execute_result"
    }
   ],
   "source": [
    "df.tail()"
   ]
  },
  {
   "cell_type": "code",
   "execution_count": 78,
   "metadata": {},
   "outputs": [],
   "source": [
    "# df.sample(n=2) # deixei comentado para usar o df com outros métodos"
   ]
  },
  {
   "cell_type": "markdown",
   "metadata": {},
   "source": [
    "#### 2.3 Exploração de dados: formato, informação, descrição\n"
   ]
  },
  {
   "cell_type": "markdown",
   "metadata": {},
   "source": [
    "Pandas fornece métodos para obter insights fundamentais sobre seus dados. Estas são as primeiras coisas que você precisa verificar ao explorar seus dados.\n"
   ]
  },
  {
   "cell_type": "markdown",
   "metadata": {},
   "source": [
    "- ****1. .shape****: Fornece um Serie onde o primeiro elemento especifica o número de amostras/linhas e o segundo elemento especifica o número de colunas;\n",
    "\n",
    "- ****2. .info()****: Fornece um resumo conciso do DataFrame, incluindo os tipos de dados, contagens não nulas e uso de memória. É um excelente ponto de partida para entender a estrutura dos dados, ou se você quiser apenas ver os tipos de dados, pode usar ****.dtypes****;\n",
    "\n",
    "- ****3. .describe()****: O método gera estatísticas básicas para cada coluna numérica no DataFrame, como contagem, média, desvio padrão, valores mínimos e máximos."
   ]
  },
  {
   "cell_type": "code",
   "execution_count": 79,
   "metadata": {},
   "outputs": [
    {
     "data": {
      "text/plain": [
       "(4, 3)"
      ]
     },
     "execution_count": 79,
     "metadata": {},
     "output_type": "execute_result"
    }
   ],
   "source": [
    "# Shape\n",
    "df.shape"
   ]
  },
  {
   "cell_type": "code",
   "execution_count": 80,
   "metadata": {},
   "outputs": [
    {
     "name": "stdout",
     "output_type": "stream",
     "text": [
      "O dataframe contém 4 linhas e 3 colunas.\n"
     ]
    }
   ],
   "source": [
    "print(f'O dataframe contém {df.shape[0]} linhas e {df.shape[1]} colunas.')"
   ]
  },
  {
   "cell_type": "code",
   "execution_count": 81,
   "metadata": {},
   "outputs": [
    {
     "data": {
      "text/html": [
       "<div>\n",
       "<style scoped>\n",
       "    .dataframe tbody tr th:only-of-type {\n",
       "        vertical-align: middle;\n",
       "    }\n",
       "\n",
       "    .dataframe tbody tr th {\n",
       "        vertical-align: top;\n",
       "    }\n",
       "\n",
       "    .dataframe thead th {\n",
       "        text-align: right;\n",
       "    }\n",
       "</style>\n",
       "<table border=\"1\" class=\"dataframe\">\n",
       "  <thead>\n",
       "    <tr style=\"text-align: right;\">\n",
       "      <th></th>\n",
       "      <th>Name</th>\n",
       "      <th>Age</th>\n",
       "      <th>City</th>\n",
       "    </tr>\n",
       "  </thead>\n",
       "  <tbody>\n",
       "    <tr>\n",
       "      <th>0</th>\n",
       "      <td>Alice</td>\n",
       "      <td>25</td>\n",
       "      <td>New York</td>\n",
       "    </tr>\n",
       "    <tr>\n",
       "      <th>1</th>\n",
       "      <td>Bob</td>\n",
       "      <td>30</td>\n",
       "      <td>San Francisco</td>\n",
       "    </tr>\n",
       "    <tr>\n",
       "      <th>2</th>\n",
       "      <td>Charlie</td>\n",
       "      <td>35</td>\n",
       "      <td>Los Angeles</td>\n",
       "    </tr>\n",
       "    <tr>\n",
       "      <th>3</th>\n",
       "      <td>David</td>\n",
       "      <td>40</td>\n",
       "      <td>Chicago</td>\n",
       "    </tr>\n",
       "  </tbody>\n",
       "</table>\n",
       "</div>"
      ],
      "text/plain": [
       "      Name  Age           City\n",
       "0    Alice   25       New York\n",
       "1      Bob   30  San Francisco\n",
       "2  Charlie   35    Los Angeles\n",
       "3    David   40        Chicago"
      ]
     },
     "execution_count": 81,
     "metadata": {},
     "output_type": "execute_result"
    }
   ],
   "source": [
    "# para confirmar\n",
    "df"
   ]
  },
  {
   "cell_type": "code",
   "execution_count": 82,
   "metadata": {},
   "outputs": [
    {
     "name": "stdout",
     "output_type": "stream",
     "text": [
      "<class 'pandas.core.frame.DataFrame'>\n",
      "RangeIndex: 4 entries, 0 to 3\n",
      "Data columns (total 3 columns):\n",
      " #   Column  Non-Null Count  Dtype \n",
      "---  ------  --------------  ----- \n",
      " 0   Name    4 non-null      object\n",
      " 1   Age     4 non-null      int64 \n",
      " 2   City    4 non-null      object\n",
      "dtypes: int64(1), object(2)\n",
      "memory usage: 224.0+ bytes\n"
     ]
    }
   ],
   "source": [
    "# info\n",
    "df.info()"
   ]
  },
  {
   "cell_type": "code",
   "execution_count": 83,
   "metadata": {},
   "outputs": [
    {
     "data": {
      "text/html": [
       "<div>\n",
       "<style scoped>\n",
       "    .dataframe tbody tr th:only-of-type {\n",
       "        vertical-align: middle;\n",
       "    }\n",
       "\n",
       "    .dataframe tbody tr th {\n",
       "        vertical-align: top;\n",
       "    }\n",
       "\n",
       "    .dataframe thead th {\n",
       "        text-align: right;\n",
       "    }\n",
       "</style>\n",
       "<table border=\"1\" class=\"dataframe\">\n",
       "  <thead>\n",
       "    <tr style=\"text-align: right;\">\n",
       "      <th></th>\n",
       "      <th>Age</th>\n",
       "    </tr>\n",
       "  </thead>\n",
       "  <tbody>\n",
       "    <tr>\n",
       "      <th>count</th>\n",
       "      <td>4.000000</td>\n",
       "    </tr>\n",
       "    <tr>\n",
       "      <th>mean</th>\n",
       "      <td>32.500000</td>\n",
       "    </tr>\n",
       "    <tr>\n",
       "      <th>std</th>\n",
       "      <td>6.454972</td>\n",
       "    </tr>\n",
       "    <tr>\n",
       "      <th>min</th>\n",
       "      <td>25.000000</td>\n",
       "    </tr>\n",
       "    <tr>\n",
       "      <th>25%</th>\n",
       "      <td>28.750000</td>\n",
       "    </tr>\n",
       "    <tr>\n",
       "      <th>50%</th>\n",
       "      <td>32.500000</td>\n",
       "    </tr>\n",
       "    <tr>\n",
       "      <th>75%</th>\n",
       "      <td>36.250000</td>\n",
       "    </tr>\n",
       "    <tr>\n",
       "      <th>max</th>\n",
       "      <td>40.000000</td>\n",
       "    </tr>\n",
       "  </tbody>\n",
       "</table>\n",
       "</div>"
      ],
      "text/plain": [
       "             Age\n",
       "count   4.000000\n",
       "mean   32.500000\n",
       "std     6.454972\n",
       "min    25.000000\n",
       "25%    28.750000\n",
       "50%    32.500000\n",
       "75%    36.250000\n",
       "max    40.000000"
      ]
     },
     "execution_count": 83,
     "metadata": {},
     "output_type": "execute_result"
    }
   ],
   "source": [
    "# Estatisticas básicas\n",
    "df.describe()\n",
    "\n",
    "# Repare que ele pegou apenas a coluna númerica"
   ]
  },
  {
   "cell_type": "markdown",
   "metadata": {},
   "source": [
    "##### 2.4 Valores únicos, contagens de valores e estatísticas básicas\n",
    "\n"
   ]
  },
  {
   "cell_type": "markdown",
   "metadata": {},
   "source": [
    "Para dados categóricos ou discretos, você podemos explorar valores únicos e suas frequências:\n",
    "\n",
    "- ****.nunique()****: Calcula o número de valores únicos em cada coluna. É útil para compreender a diversidade de dados em colunas categóricas;\n",
    "\n",
    "- ****.column_name ou ['column_name']****: Para acessar uma coluna específica no DataFrame. Você só pode usar a segunda abordagem quando o nome da coluna tiver espaços;\n",
    "\n",
    "****.value_counts()****: Conta as ocorrências de cada valor exclusivo em uma coluna específica. É particularmente útil para colunas categóricas."
   ]
  },
  {
   "cell_type": "code",
   "execution_count": 84,
   "metadata": {},
   "outputs": [
    {
     "data": {
      "text/plain": [
       "(5, 1)"
      ]
     },
     "execution_count": 84,
     "metadata": {},
     "output_type": "execute_result"
    }
   ],
   "source": [
    "# dataframe com 6 valores\n",
    "unique_df = pd.DataFrame([\"saulo\",\"saulo\",\"dri\",\"su\",\"sil\"])\n",
    "\n",
    "unique_df.shape"
   ]
  },
  {
   "cell_type": "code",
   "execution_count": 85,
   "metadata": {},
   "outputs": [
    {
     "data": {
      "text/plain": [
       "0    4\n",
       "dtype: int64"
      ]
     },
     "execution_count": 85,
     "metadata": {},
     "output_type": "execute_result"
    }
   ],
   "source": [
    "# Quantos valores unicos\n",
    "unique_df.nunique()"
   ]
  },
  {
   "cell_type": "code",
   "execution_count": 86,
   "metadata": {},
   "outputs": [
    {
     "data": {
      "text/plain": [
       "0         New York\n",
       "1    San Francisco\n",
       "2      Los Angeles\n",
       "3          Chicago\n",
       "Name: City, dtype: object"
      ]
     },
     "execution_count": 86,
     "metadata": {},
     "output_type": "execute_result"
    }
   ],
   "source": [
    "# para acessar uma coluna - Ambos retornam o mesmo resultado\n",
    "df.City\n",
    "df['City']"
   ]
  },
  {
   "cell_type": "code",
   "execution_count": 87,
   "metadata": {},
   "outputs": [
    {
     "data": {
      "text/plain": [
       "saulo    2\n",
       "dri      1\n",
       "sil      1\n",
       "su       1\n",
       "dtype: int64"
      ]
     },
     "execution_count": 87,
     "metadata": {},
     "output_type": "execute_result"
    }
   ],
   "source": [
    "# Por padrão, as contagens de valores não retornarão a contagem de valores ausentes\n",
    "unique_df.value_counts()"
   ]
  },
  {
   "cell_type": "code",
   "execution_count": 88,
   "metadata": {},
   "outputs": [
    {
     "data": {
      "text/plain": [
       "New York         1\n",
       "San Francisco    1\n",
       "Los Angeles      1\n",
       "Chicago          1\n",
       "Name: City, dtype: int64"
      ]
     },
     "execution_count": 88,
     "metadata": {},
     "output_type": "execute_result"
    }
   ],
   "source": [
    "# Por padrão, as contagens de valores não retornarão a contagem de valores ausentes\n",
    "# escolhendo uma coluna\n",
    "df['City'].value_counts()\n"
   ]
  },
  {
   "cell_type": "code",
   "execution_count": 89,
   "metadata": {},
   "outputs": [
    {
     "data": {
      "text/plain": [
       "New York         1\n",
       "San Francisco    1\n",
       "Los Angeles      1\n",
       "Chicago          1\n",
       "Name: City, dtype: int64"
      ]
     },
     "execution_count": 89,
     "metadata": {},
     "output_type": "execute_result"
    }
   ],
   "source": [
    "# Por padrão, as contagens de valores não retornarão a contagem de valores ausentes\n",
    "# escolhendo uma coluna - do outro modo\n",
    "df.City.value_counts()\n"
   ]
  },
  {
   "cell_type": "code",
   "execution_count": 90,
   "metadata": {},
   "outputs": [
    {
     "data": {
      "text/plain": [
       "New York         1\n",
       "San Francisco    1\n",
       "Los Angeles      1\n",
       "Chicago          1\n",
       "Name: City, dtype: int64"
      ]
     },
     "execution_count": 90,
     "metadata": {},
     "output_type": "execute_result"
    }
   ],
   "source": [
    "# use dropna = False, para também obter as contagens de valores ausentes junto com outros\n",
    "df['City'].value_counts(dropna=False)"
   ]
  },
  {
   "cell_type": "code",
   "execution_count": 91,
   "metadata": {},
   "outputs": [
    {
     "data": {
      "text/plain": [
       "32.5"
      ]
     },
     "execution_count": 91,
     "metadata": {},
     "output_type": "execute_result"
    }
   ],
   "source": [
    "# estatisticas básicas - média\n",
    "df.Age.mean() # dataframe.column_name.mean()"
   ]
  },
  {
   "cell_type": "code",
   "execution_count": 92,
   "metadata": {},
   "outputs": [
    {
     "data": {
      "text/plain": [
       "32.5"
      ]
     },
     "execution_count": 92,
     "metadata": {},
     "output_type": "execute_result"
    }
   ],
   "source": [
    "# estatisticas básicas - mediana\n",
    "df.Age.median() # dataframe.column_name.median()"
   ]
  },
  {
   "cell_type": "code",
   "execution_count": 93,
   "metadata": {},
   "outputs": [
    {
     "data": {
      "text/plain": [
       "0    25\n",
       "1    30\n",
       "2    35\n",
       "3    40\n",
       "dtype: int64"
      ]
     },
     "execution_count": 93,
     "metadata": {},
     "output_type": "execute_result"
    }
   ],
   "source": [
    "# estatisticas básicas\n",
    "df.Age.mode() # dataframe.column_name.mode()"
   ]
  },
  {
   "cell_type": "code",
   "execution_count": 94,
   "metadata": {},
   "outputs": [
    {
     "data": {
      "text/plain": [
       "6.454972243679028"
      ]
     },
     "execution_count": 94,
     "metadata": {},
     "output_type": "execute_result"
    }
   ],
   "source": [
    "# estatisticas básicas\n",
    "df.Age.std() # dataframe.column_name.mode()"
   ]
  },
  {
   "cell_type": "markdown",
   "metadata": {},
   "source": [
    "## 3. Seleção e indexação de dados\n",
    "\n",
    "A seleção e indexação de dados são operações fundamentais no Pandas, permitindo extrair subconjuntos específicos de dados de um DataFrame."
   ]
  },
  {
   "cell_type": "markdown",
   "metadata": {},
   "source": [
    "#### 3.1. Selecionando Colunas e Linhas"
   ]
  },
  {
   "cell_type": "markdown",
   "metadata": {},
   "source": [
    " Você pode selecionar colunas e linhas específicas de um DataFrame usando colchetes ****[]****, ****.loc[]****, and ****.iloc[]****[]:\n",
    "\n",
    " - ****Colchetes []****: Seleciona uma ou mais colunas por seus nomes, você pode usar colchetes com os nomes das colunas como uma lista. indexing methods:\n"
   ]
  },
  {
   "cell_type": "code",
   "execution_count": 95,
   "metadata": {},
   "outputs": [
    {
     "data": {
      "text/html": [
       "<div>\n",
       "<style scoped>\n",
       "    .dataframe tbody tr th:only-of-type {\n",
       "        vertical-align: middle;\n",
       "    }\n",
       "\n",
       "    .dataframe tbody tr th {\n",
       "        vertical-align: top;\n",
       "    }\n",
       "\n",
       "    .dataframe thead th {\n",
       "        text-align: right;\n",
       "    }\n",
       "</style>\n",
       "<table border=\"1\" class=\"dataframe\">\n",
       "  <thead>\n",
       "    <tr style=\"text-align: right;\">\n",
       "      <th></th>\n",
       "      <th>Name</th>\n",
       "      <th>Age</th>\n",
       "    </tr>\n",
       "  </thead>\n",
       "  <tbody>\n",
       "    <tr>\n",
       "      <th>0</th>\n",
       "      <td>Alice</td>\n",
       "      <td>25</td>\n",
       "    </tr>\n",
       "    <tr>\n",
       "      <th>1</th>\n",
       "      <td>Bob</td>\n",
       "      <td>30</td>\n",
       "    </tr>\n",
       "    <tr>\n",
       "      <th>2</th>\n",
       "      <td>Charlie</td>\n",
       "      <td>35</td>\n",
       "    </tr>\n",
       "    <tr>\n",
       "      <th>3</th>\n",
       "      <td>David</td>\n",
       "      <td>40</td>\n",
       "    </tr>\n",
       "  </tbody>\n",
       "</table>\n",
       "</div>"
      ],
      "text/plain": [
       "      Name  Age\n",
       "0    Alice   25\n",
       "1      Bob   30\n",
       "2  Charlie   35\n",
       "3    David   40"
      ]
     },
     "execution_count": 95,
     "metadata": {},
     "output_type": "execute_result"
    }
   ],
   "source": [
    "# select_columns = df[['coluna1', 'coluna 2']]\n",
    "\n",
    "df[['Name', 'Age']]\n"
   ]
  },
  {
   "cell_type": "markdown",
   "metadata": {},
   "source": [
    "- ****.loc[]****: Faz uma seleção baseada em rótulo: O indexador ****.loc[]**** permite selecionar linhas e colunas por rótulo. Você pode especificar rótulos de linha e coluna."
   ]
  },
  {
   "cell_type": "code",
   "execution_count": 96,
   "metadata": {},
   "outputs": [
    {
     "data": {
      "text/html": [
       "<div>\n",
       "<style scoped>\n",
       "    .dataframe tbody tr th:only-of-type {\n",
       "        vertical-align: middle;\n",
       "    }\n",
       "\n",
       "    .dataframe tbody tr th {\n",
       "        vertical-align: top;\n",
       "    }\n",
       "\n",
       "    .dataframe thead th {\n",
       "        text-align: right;\n",
       "    }\n",
       "</style>\n",
       "<table border=\"1\" class=\"dataframe\">\n",
       "  <thead>\n",
       "    <tr style=\"text-align: right;\">\n",
       "      <th></th>\n",
       "      <th>Name</th>\n",
       "      <th>Age</th>\n",
       "    </tr>\n",
       "  </thead>\n",
       "  <tbody>\n",
       "    <tr>\n",
       "      <th>2</th>\n",
       "      <td>Charlie</td>\n",
       "      <td>35</td>\n",
       "    </tr>\n",
       "    <tr>\n",
       "      <th>3</th>\n",
       "      <td>David</td>\n",
       "      <td>40</td>\n",
       "    </tr>\n",
       "  </tbody>\n",
       "</table>\n",
       "</div>"
      ],
      "text/plain": [
       "      Name  Age\n",
       "2  Charlie   35\n",
       "3    David   40"
      ]
     },
     "execution_count": 96,
     "metadata": {},
     "output_type": "execute_result"
    }
   ],
   "source": [
    "# selected_data = df.loc[3:6, ['Column1', 'Column2']]\n",
    "\n",
    "df.loc[2:3,['Name', \"Age\"]]\n"
   ]
  },
  {
   "cell_type": "markdown",
   "metadata": {},
   "source": [
    "- ****.iloc[]****: Realiza uma seleção baseada em número inteiro: O indexador ****.iloc[]**** permite selecionar linhas e colunas por localização de número inteiro, o que é útil para indexação numérica."
   ]
  },
  {
   "cell_type": "code",
   "execution_count": 97,
   "metadata": {},
   "outputs": [
    {
     "data": {
      "text/html": [
       "<div>\n",
       "<style scoped>\n",
       "    .dataframe tbody tr th:only-of-type {\n",
       "        vertical-align: middle;\n",
       "    }\n",
       "\n",
       "    .dataframe tbody tr th {\n",
       "        vertical-align: top;\n",
       "    }\n",
       "\n",
       "    .dataframe thead th {\n",
       "        text-align: right;\n",
       "    }\n",
       "</style>\n",
       "<table border=\"1\" class=\"dataframe\">\n",
       "  <thead>\n",
       "    <tr style=\"text-align: right;\">\n",
       "      <th></th>\n",
       "      <th>Name</th>\n",
       "      <th>Age</th>\n",
       "    </tr>\n",
       "  </thead>\n",
       "  <tbody>\n",
       "    <tr>\n",
       "      <th>2</th>\n",
       "      <td>Charlie</td>\n",
       "      <td>35</td>\n",
       "    </tr>\n",
       "    <tr>\n",
       "      <th>3</th>\n",
       "      <td>David</td>\n",
       "      <td>40</td>\n",
       "    </tr>\n",
       "  </tbody>\n",
       "</table>\n",
       "</div>"
      ],
      "text/plain": [
       "      Name  Age\n",
       "2  Charlie   35\n",
       "3    David   40"
      ]
     },
     "execution_count": 97,
     "metadata": {},
     "output_type": "execute_result"
    }
   ],
   "source": [
    "# selected_data = df.iloc[1:4, 0:2]\n",
    "df.iloc[2:4, 0:2]"
   ]
  },
  {
   "cell_type": "markdown",
   "metadata": {},
   "source": [
    "#### 3.2. Filtragem/Seleção Condicional"
   ]
  },
  {
   "cell_type": "markdown",
   "metadata": {},
   "source": [
    "A seleção condicional permite filtrar linhas com base em critérios específicos.\n",
    "\n",
    "Você pode usar a indexação booleana (verdadeiro [TRUE] ou falso [FALSE]) para fazer isso.\n",
    "\n",
    "Quando você passa uma lista de booleanos ( length = length of samples/rows ) para um quadro de dados, o quadro de dados seleciona as linhas específicas onde o índice da lista booleana é True."
   ]
  },
  {
   "cell_type": "markdown",
   "metadata": {},
   "source": [
    "- ****Boolean Indexing****: Crie uma máscara booleana aplicando uma condição a uma coluna e, em seguida, use essa máscara para filtrar linhas para a Condição Verdadeira."
   ]
  },
  {
   "cell_type": "code",
   "execution_count": 98,
   "metadata": {},
   "outputs": [
    {
     "data": {
      "text/html": [
       "<div>\n",
       "<style scoped>\n",
       "    .dataframe tbody tr th:only-of-type {\n",
       "        vertical-align: middle;\n",
       "    }\n",
       "\n",
       "    .dataframe tbody tr th {\n",
       "        vertical-align: top;\n",
       "    }\n",
       "\n",
       "    .dataframe thead th {\n",
       "        text-align: right;\n",
       "    }\n",
       "</style>\n",
       "<table border=\"1\" class=\"dataframe\">\n",
       "  <thead>\n",
       "    <tr style=\"text-align: right;\">\n",
       "      <th></th>\n",
       "      <th>Name</th>\n",
       "      <th>Age</th>\n",
       "      <th>City</th>\n",
       "    </tr>\n",
       "  </thead>\n",
       "  <tbody>\n",
       "    <tr>\n",
       "      <th>0</th>\n",
       "      <td>Alice</td>\n",
       "      <td>25</td>\n",
       "      <td>New York</td>\n",
       "    </tr>\n",
       "    <tr>\n",
       "      <th>1</th>\n",
       "      <td>Bob</td>\n",
       "      <td>30</td>\n",
       "      <td>San Francisco</td>\n",
       "    </tr>\n",
       "    <tr>\n",
       "      <th>2</th>\n",
       "      <td>Charlie</td>\n",
       "      <td>35</td>\n",
       "      <td>Los Angeles</td>\n",
       "    </tr>\n",
       "    <tr>\n",
       "      <th>3</th>\n",
       "      <td>David</td>\n",
       "      <td>40</td>\n",
       "      <td>Chicago</td>\n",
       "    </tr>\n",
       "  </tbody>\n",
       "</table>\n",
       "</div>"
      ],
      "text/plain": [
       "      Name  Age           City\n",
       "0    Alice   25       New York\n",
       "1      Bob   30  San Francisco\n",
       "2  Charlie   35    Los Angeles\n",
       "3    David   40        Chicago"
      ]
     },
     "execution_count": 98,
     "metadata": {},
     "output_type": "execute_result"
    }
   ],
   "source": [
    "df"
   ]
  },
  {
   "cell_type": "code",
   "execution_count": 99,
   "metadata": {},
   "outputs": [
    {
     "data": {
      "text/html": [
       "<div>\n",
       "<style scoped>\n",
       "    .dataframe tbody tr th:only-of-type {\n",
       "        vertical-align: middle;\n",
       "    }\n",
       "\n",
       "    .dataframe tbody tr th {\n",
       "        vertical-align: top;\n",
       "    }\n",
       "\n",
       "    .dataframe thead th {\n",
       "        text-align: right;\n",
       "    }\n",
       "</style>\n",
       "<table border=\"1\" class=\"dataframe\">\n",
       "  <thead>\n",
       "    <tr style=\"text-align: right;\">\n",
       "      <th></th>\n",
       "      <th>Name</th>\n",
       "      <th>Age</th>\n",
       "      <th>City</th>\n",
       "    </tr>\n",
       "  </thead>\n",
       "  <tbody>\n",
       "    <tr>\n",
       "      <th>2</th>\n",
       "      <td>Charlie</td>\n",
       "      <td>35</td>\n",
       "      <td>Los Angeles</td>\n",
       "    </tr>\n",
       "    <tr>\n",
       "      <th>3</th>\n",
       "      <td>David</td>\n",
       "      <td>40</td>\n",
       "      <td>Chicago</td>\n",
       "    </tr>\n",
       "  </tbody>\n",
       "</table>\n",
       "</div>"
      ],
      "text/plain": [
       "      Name  Age         City\n",
       "2  Charlie   35  Los Angeles\n",
       "3    David   40      Chicago"
      ]
     },
     "execution_count": 99,
     "metadata": {},
     "output_type": "execute_result"
    }
   ],
   "source": [
    "boolean_mask = df['Age'] > 30 # Mascara com a condição idade > 30\n",
    "filtered_data = df[boolean_mask] # Aplica a mascara no df (repare que retorna o que é true)\n",
    "\n",
    "filtered_data.head()"
   ]
  },
  {
   "cell_type": "markdown",
   "metadata": {},
   "source": [
    "- ****Multiple Conditions****: Combine várias condições usando operadores lógicos (**&** para **AND**, **|** para **OR**) e use parênteses para maior clareza.\n",
    "\n",
    "Também é possivel usar .isin() um método do pandas para verificar se um valor de uma lista de coisas atende um critério."
   ]
  },
  {
   "cell_type": "code",
   "execution_count": 100,
   "metadata": {},
   "outputs": [
    {
     "data": {
      "text/html": [
       "<div>\n",
       "<style scoped>\n",
       "    .dataframe tbody tr th:only-of-type {\n",
       "        vertical-align: middle;\n",
       "    }\n",
       "\n",
       "    .dataframe tbody tr th {\n",
       "        vertical-align: top;\n",
       "    }\n",
       "\n",
       "    .dataframe thead th {\n",
       "        text-align: right;\n",
       "    }\n",
       "</style>\n",
       "<table border=\"1\" class=\"dataframe\">\n",
       "  <thead>\n",
       "    <tr style=\"text-align: right;\">\n",
       "      <th></th>\n",
       "      <th>Name</th>\n",
       "      <th>Age</th>\n",
       "      <th>City</th>\n",
       "    </tr>\n",
       "  </thead>\n",
       "  <tbody>\n",
       "    <tr>\n",
       "      <th>0</th>\n",
       "      <td>Alice</td>\n",
       "      <td>25</td>\n",
       "      <td>New York</td>\n",
       "    </tr>\n",
       "    <tr>\n",
       "      <th>1</th>\n",
       "      <td>Bob</td>\n",
       "      <td>30</td>\n",
       "      <td>San Francisco</td>\n",
       "    </tr>\n",
       "    <tr>\n",
       "      <th>2</th>\n",
       "      <td>Charlie</td>\n",
       "      <td>35</td>\n",
       "      <td>Los Angeles</td>\n",
       "    </tr>\n",
       "    <tr>\n",
       "      <th>3</th>\n",
       "      <td>David</td>\n",
       "      <td>40</td>\n",
       "      <td>Chicago</td>\n",
       "    </tr>\n",
       "  </tbody>\n",
       "</table>\n",
       "</div>"
      ],
      "text/plain": [
       "      Name  Age           City\n",
       "0    Alice   25       New York\n",
       "1      Bob   30  San Francisco\n",
       "2  Charlie   35    Los Angeles\n",
       "3    David   40        Chicago"
      ]
     },
     "execution_count": 100,
     "metadata": {},
     "output_type": "execute_result"
    }
   ],
   "source": [
    "# Visualizado o df\n",
    "df"
   ]
  },
  {
   "cell_type": "code",
   "execution_count": 101,
   "metadata": {},
   "outputs": [
    {
     "data": {
      "text/html": [
       "<div>\n",
       "<style scoped>\n",
       "    .dataframe tbody tr th:only-of-type {\n",
       "        vertical-align: middle;\n",
       "    }\n",
       "\n",
       "    .dataframe tbody tr th {\n",
       "        vertical-align: top;\n",
       "    }\n",
       "\n",
       "    .dataframe thead th {\n",
       "        text-align: right;\n",
       "    }\n",
       "</style>\n",
       "<table border=\"1\" class=\"dataframe\">\n",
       "  <thead>\n",
       "    <tr style=\"text-align: right;\">\n",
       "      <th></th>\n",
       "      <th>Name</th>\n",
       "      <th>Age</th>\n",
       "      <th>City</th>\n",
       "    </tr>\n",
       "  </thead>\n",
       "  <tbody>\n",
       "    <tr>\n",
       "      <th>3</th>\n",
       "      <td>David</td>\n",
       "      <td>40</td>\n",
       "      <td>Chicago</td>\n",
       "    </tr>\n",
       "  </tbody>\n",
       "</table>\n",
       "</div>"
      ],
      "text/plain": [
       "    Name  Age     City\n",
       "3  David   40  Chicago"
      ]
     },
     "execution_count": 101,
     "metadata": {},
     "output_type": "execute_result"
    }
   ],
   "source": [
    "boolean_mask = (df['Age'] > 25) & (df['City'] == 'Chicago')\n",
    "filtered_data = df[boolean_mask]\n",
    "filtered_data"
   ]
  },
  {
   "cell_type": "code",
   "execution_count": 102,
   "metadata": {},
   "outputs": [
    {
     "data": {
      "text/html": [
       "<div>\n",
       "<style scoped>\n",
       "    .dataframe tbody tr th:only-of-type {\n",
       "        vertical-align: middle;\n",
       "    }\n",
       "\n",
       "    .dataframe tbody tr th {\n",
       "        vertical-align: top;\n",
       "    }\n",
       "\n",
       "    .dataframe thead th {\n",
       "        text-align: right;\n",
       "    }\n",
       "</style>\n",
       "<table border=\"1\" class=\"dataframe\">\n",
       "  <thead>\n",
       "    <tr style=\"text-align: right;\">\n",
       "      <th></th>\n",
       "      <th>Name</th>\n",
       "      <th>Age</th>\n",
       "      <th>City</th>\n",
       "    </tr>\n",
       "  </thead>\n",
       "  <tbody>\n",
       "    <tr>\n",
       "      <th>0</th>\n",
       "      <td>Alice</td>\n",
       "      <td>25</td>\n",
       "      <td>New York</td>\n",
       "    </tr>\n",
       "    <tr>\n",
       "      <th>1</th>\n",
       "      <td>Bob</td>\n",
       "      <td>30</td>\n",
       "      <td>San Francisco</td>\n",
       "    </tr>\n",
       "    <tr>\n",
       "      <th>2</th>\n",
       "      <td>Charlie</td>\n",
       "      <td>35</td>\n",
       "      <td>Los Angeles</td>\n",
       "    </tr>\n",
       "  </tbody>\n",
       "</table>\n",
       "</div>"
      ],
      "text/plain": [
       "      Name  Age           City\n",
       "0    Alice   25       New York\n",
       "1      Bob   30  San Francisco\n",
       "2  Charlie   35    Los Angeles"
      ]
     },
     "execution_count": 102,
     "metadata": {},
     "output_type": "execute_result"
    }
   ],
   "source": [
    "boolean_mask = (df['Age'] >= 25) & (df['Age'] <= 35)\n",
    "filtered_data = df[boolean_mask]\n",
    "filtered_data"
   ]
  },
  {
   "cell_type": "code",
   "execution_count": 103,
   "metadata": {},
   "outputs": [
    {
     "data": {
      "text/plain": [
       "0     True\n",
       "1    False\n",
       "2     True\n",
       "Name: City, dtype: bool"
      ]
     },
     "execution_count": 103,
     "metadata": {},
     "output_type": "execute_result"
    }
   ],
   "source": [
    "city_ny_la = filtered_data.City.isin(['New York','Los Angeles'])\n",
    "city_ny_la"
   ]
  },
  {
   "cell_type": "markdown",
   "metadata": {},
   "source": [
    "#### 3.3. Filtragem/Seleção Condicional"
   ]
  },
  {
   "cell_type": "markdown",
   "metadata": {},
   "source": [
    "O Pandas fornece vários métodos para personalizar e redefinir o índice do DataFrame."
   ]
  },
  {
   "cell_type": "markdown",
   "metadata": {},
   "source": [
    "- ****set_index()****: Este método permite definir uma ou mais colunas como índice do DataFrame. É útil quando você deseja realizar operações em uma coluna específica.\n",
    "\n",
    "Para salvá-lo, temos que modificar o dataframe existente com o atualizado. Ou se você deseja salvá-lo diretamente, você pode usar o parâmetro inplace=True"
   ]
  },
  {
   "cell_type": "code",
   "execution_count": 105,
   "metadata": {},
   "outputs": [],
   "source": [
    "# Ambos salvarão os dados após a modificação\n",
    "\n",
    "# df = df.set_index('ID') \n",
    "# df.set_index('ID',inplace=True)\n"
   ]
  },
  {
   "cell_type": "markdown",
   "metadata": {},
   "source": [
    "- ****reset_index()****: O método reset_index() redefine o índice para o índice inteiro padrão e, opcionalmente, remove o índice existente."
   ]
  },
  {
   "cell_type": "code",
   "execution_count": 111,
   "metadata": {},
   "outputs": [],
   "source": [
    "df = df.reset_index(drop=True) # nada acontece pq o df não tem uma coluna index"
   ]
  },
  {
   "cell_type": "markdown",
   "metadata": {},
   "source": [
    "## Limpeza de dados"
   ]
  },
  {
   "cell_type": "markdown",
   "metadata": {},
   "source": [
    "A limpeza de dados é uma etapa crítica no processo de preparação de dados. Envolve identificar e resolver problemas em seu conjunto de dados para garantir sua qualidade e confiabilidade."
   ]
  },
  {
   "cell_type": "markdown",
   "metadata": {},
   "source": [
    "- #### 4.2 Trabalhando com missing data"
   ]
  },
  {
   "cell_type": "markdown",
   "metadata": {},
   "source": [
    "Dados faltates, ou missing data, é um problema comum em conjuntos de dados do mundo real.\n",
    "\n",
    "A biblioteca Pandas oferece métodos para lidar com valores ausentes de maneira eficaz."
   ]
  },
  {
   "cell_type": "markdown",
   "metadata": {},
   "source": [
    "- ****.isna()and .notna()****: Esses métodos permitem identificar valores ausentes (NaN) e não ausentes, respectivamente, em seu DataFrame.\n",
    "\n",
    "Aplicar este método para uma coluna retornará a lista booleana com True para os índices onde há um valor ausente. Sendo assim, passar essa lista para um dataframe retornará as linhas onde os valores da coluna são nulos.\n"
   ]
  },
  {
   "cell_type": "code",
   "execution_count": null,
   "metadata": {},
   "outputs": [],
   "source": [
    "missing_data = df[df['Column'].isna()]\n",
    "\n",
    "# Para obter a soma dos valores nulos em uma coluna\n",
    "df.Column.isna().sum()\n",
    "\n",
    "# Para obter a soma dos valores nulos para cada coluna\n",
    "df.isna().sum()"
   ]
  },
  {
   "cell_type": "markdown",
   "metadata": {},
   "source": [
    "- ****.fillna()****: Você pode substituir valores ausentes por um valor especificado ou calculado usando o método .fillna().\n",
    "\n",
    "O exemplo abaixo substitui todos os valores nulos por zeros e modifica diretamente os dados conforme usamos em place = True."
   ]
  },
  {
   "cell_type": "code",
   "execution_count": null,
   "metadata": {},
   "outputs": [],
   "source": [
    "# especifique o valor pelo qual você deseja preencher o valor ausente\n",
    "# No exemplo abaixo estamos substituindo o valor ausente por zero.\n",
    "df['Column'].fillna(value=0, inplace=True)\n",
    "\n",
    "# Se você deseja preencher os dados faltantes com a média da coluna numérica\n",
    "df['Column'].fillna(value=df['Column'].mean(), inplace=True)\n",
    "\n",
    "# Se você deseja preencher os dados faltantes com a mediana da coluna numérica\n",
    "df['Column'].fillna(value=df['Column'].median(), inplace=True)\n",
    "\n",
    "# Se você deseja preencher os dados faltantes com a moda da coluna numérica\n",
    "df['Column'].fillna(value=df['Column'].mode(), inplace=True)"
   ]
  },
  {
   "cell_type": "markdown",
   "metadata": {},
   "source": [
    "- ****.dropna()****: Remove as linhas ou colunas que contêm valores ausentes.\n",
    "\n",
    "Por padrão, essa função removerá as linhas (axis = 0) onde qualquer um dos valores da coluna está faltando ( how = ‘any’ )."
   ]
  },
  {
   "cell_type": "code",
   "execution_count": null,
   "metadata": {},
   "outputs": [],
   "source": [
    "# Default axis = 0, how= 'any'. Elimina todas as linhas de qualquer coluna\n",
    "df.dropna()\n",
    "\n",
    "# Se você quiser que seja verificado apenas para determinadas colunas, use subset.\n",
    "# Elimina as linhas onde qualquer valor da coluna1 ou coluna2 está faltando.\n",
    "df.dropna(subset=['Column1', 'Column 2'], how = 'any', inplace=True)\n",
    "\n",
    "# Elimina a coluna, se algum valor da coluna estiver faltando, não recomendado.\n",
    "df.dropna(axis=1)"
   ]
  },
  {
   "cell_type": "markdown",
   "metadata": {},
   "source": [
    "#### 4.2 Removendo dados duplicados"
   ]
  },
  {
   "cell_type": "markdown",
   "metadata": {},
   "source": [
    "Linhas duplicadas podem distorcer os resultados da sua análise.\n",
    "\n",
    "com o Pandas é possível remover duplicatas de modo simples."
   ]
  },
  {
   "cell_type": "markdown",
   "metadata": {},
   "source": [
    "- ****.duplicated()****: Este método identifica linhas duplicadas em um DataFrame."
   ]
  },
  {
   "cell_type": "code",
   "execution_count": null,
   "metadata": {},
   "outputs": [],
   "source": [
    "# Resultados as colunas duplicadas\n",
    "# quando existe qualquer outra linha com correspondência exata de todas as colunas.\n",
    "duplicates = df[df.duplicated()]\n",
    "\n",
    "# Resultados as colunas duplicadas\n",
    "# quando há uma correspondência entre as colunas especificadas\n",
    "duplicates = df[df.duplicated(subset=['column1','column2'])]"
   ]
  },
  {
   "cell_type": "markdown",
   "metadata": {},
   "source": [
    "- ****.drop_duplicates()****: Use este método para remover linhas duplicadas do DataFrame."
   ]
  },
  {
   "cell_type": "code",
   "execution_count": null,
   "metadata": {},
   "outputs": [],
   "source": [
    "# Antes de eliminarmos as linhas duplicadas,verifique a contagem de linhas duplicadas.\n",
    "df.duplicated(subset=['column1','column2']).sum()\n",
    "\n",
    "# Elimine as linhas duplicadas, a linha abaixo apenas mostrará os dados após a eliminação\n",
    "df.drop_duplicates()\n",
    "\n",
    "# É aconselhável verificar a forma após eliminar os missing antes de salvá-la\n",
    "df.drop_duplicates().shape\n",
    "\n",
    "# Se estiver satisfeito com a forma resultante, você pode salvá-la.\n",
    "df.drop_duplicates(inplace=True)"
   ]
  },
  {
   "cell_type": "markdown",
   "metadata": {},
   "source": [
    "#### 4.3 Conversão do tipo de dado\n"
   ]
  },
  {
   "cell_type": "markdown",
   "metadata": {},
   "source": [
    "Os tipos de dados corretos são cruciais para a análise de dados. Pandas fornece métodos para converter tipos de dados conforme necessário."
   ]
  },
  {
   "cell_type": "markdown",
   "metadata": {},
   "source": [
    "- ****.astype()****:Você pode alterar o tipo de dados de uma coluna específica usando o método .astype(). \n",
    "\n",
    "Considere um caso em que item_price é salvo no tipo de dados do objeto, então você teria que alterá-lo para flutuante."
   ]
  },
  {
   "cell_type": "code",
   "execution_count": null,
   "metadata": {},
   "outputs": [],
   "source": [
    "# Para ver os tipos de dados de todas as colunas\n",
    "df.dtypes\n",
    "\n",
    "# Para alterar o tipo de dados de uma coluna\n",
    "df['Column'] = df['Column'].astype('float')\n",
    "\n",
    "# Convertendo colunas/séries com 'Masculino' para 1\n",
    "df.Sex = pd.Series(df.Sex == 'Male').astype('int')"
   ]
  },
  {
   "cell_type": "markdown",
   "metadata": {},
   "source": [
    "#### 4.4 String Operations"
   ]
  },
  {
   "cell_type": "markdown",
   "metadata": {},
   "source": [
    "Ao trabalhar com dados de texto, o Pandas oferece operações de string por meio de .str uma via de acesso para aplicar a toda a coluna que é do tipo de dados de objeto.\n",
    "\n",
    "- ****.str.lower() e .str.upper()****: Esses métodos convertem strings em minúsculas ou maiúsculas para todos os valores da coluna.\n",
    "\n",
    "- ****.str.replace()****: Use este método para substituir substrings dentro de strings.\n",
    "\n",
    "- ****.str.Contains()****: Este método permite verificar se existe uma substring ou padrão específico em uma string. Ele retorna uma série booleana indicando se cada elemento contém o padrão especificado.\n",
    "\n",
    "- ****.str.slice()****: Você pode extrair uma substring de cada string em uma série usando o método .str.slice(). Especifique as posições inicial e final para definir a fatia."
   ]
  },
  {
   "cell_type": "code",
   "execution_count": null,
   "metadata": {},
   "outputs": [],
   "source": [
    "# Converte todos os valores da coluna do nome para letras minúsculas\n",
    "df['Name'] = df['Name'].str.lower()\n",
    "\n",
    "# Converte todos os valores da coluna do nome para letras maiúsculas\n",
    "df['Name'] = df['Name'].str.upper()\n",
    "\n",
    "# Encontrando um valor na coluna\n",
    "contains_pattern = df['Text'].str.contains('keyword')\n",
    "filtered_data = df[contains_pattern]\n",
    "\n",
    "# Fatia de string\n",
    "df['Substring'] = df['Text'].str.slice(start=2, stop=5) \n",
    "\n",
    "# String Replace, digamos que você deseja converter o objeto $ 5,4 em flutuante\n",
    "df.price.str.replace('$','').astype('float')\n",
    "\n",
    "# Usando operações String e astype\n",
    "df.item_name.str.contains('chicken').astype('int')"
   ]
  },
  {
   "cell_type": "markdown",
   "metadata": {},
   "source": [
    "## Manipulação de dados"
   ]
  },
  {
   "cell_type": "markdown",
   "metadata": {},
   "source": [
    "A manipulação de dados é uma tarefa crucial na análise de dados e envolve transformar e modificar seus dados para obter insights ou prepará-los para análises posteriores. \n",
    "\n",
    "O Pandas fornece um rico conjunto de métodos para manipulação de dados que permitem moldar seus dados para atender às suas necessidades específicas.\n"
   ]
  },
  {
   "cell_type": "markdown",
   "metadata": {},
   "source": [
    "#### 5.1 Aplicando Funções a DataFrames"
   ]
  },
  {
   "cell_type": "markdown",
   "metadata": {},
   "source": [
    "Existe uma variedade de operações elementares que podem ser aplicadas a um dataframe usando python .iterrows().\n",
    "\n",
    "No entanto, é importante observar que o Pandas é otimizado para operações vetorizadas, e iterar por meio de linha por linha de um DataFrame geralmente não é a maneira mais eficiente de trabalhar com dados no Pandas. \n",
    "\n",
    "Para essas tarefas, é recomendado usar operações vetorizadas sempre que possível."
   ]
  },
  {
   "cell_type": "code",
   "execution_count": 6,
   "metadata": {},
   "outputs": [
    {
     "data": {
      "text/html": [
       "<div>\n",
       "<style scoped>\n",
       "    .dataframe tbody tr th:only-of-type {\n",
       "        vertical-align: middle;\n",
       "    }\n",
       "\n",
       "    .dataframe tbody tr th {\n",
       "        vertical-align: top;\n",
       "    }\n",
       "\n",
       "    .dataframe thead th {\n",
       "        text-align: right;\n",
       "    }\n",
       "</style>\n",
       "<table border=\"1\" class=\"dataframe\">\n",
       "  <thead>\n",
       "    <tr style=\"text-align: right;\">\n",
       "      <th></th>\n",
       "      <th>Name</th>\n",
       "      <th>Age</th>\n",
       "    </tr>\n",
       "  </thead>\n",
       "  <tbody>\n",
       "    <tr>\n",
       "      <th>0</th>\n",
       "      <td>Alice</td>\n",
       "      <td>25</td>\n",
       "    </tr>\n",
       "    <tr>\n",
       "      <th>1</th>\n",
       "      <td>Bob</td>\n",
       "      <td>30</td>\n",
       "    </tr>\n",
       "    <tr>\n",
       "      <th>2</th>\n",
       "      <td>Charlie</td>\n",
       "      <td>35</td>\n",
       "    </tr>\n",
       "  </tbody>\n",
       "</table>\n",
       "</div>"
      ],
      "text/plain": [
       "      Name  Age\n",
       "0    Alice   25\n",
       "1      Bob   30\n",
       "2  Charlie   35"
      ]
     },
     "execution_count": 6,
     "metadata": {},
     "output_type": "execute_result"
    }
   ],
   "source": [
    "import pandas as pd\n",
    "\n",
    "# Criar um df\n",
    "data = {'Name': ['Alice', 'Bob', 'Charlie'],\n",
    "        'Age': [25, 30, 35]}\n",
    "\n",
    "df = pd.DataFrame(data)\n",
    "\n",
    "df"
   ]
  },
  {
   "cell_type": "code",
   "execution_count": 7,
   "metadata": {},
   "outputs": [
    {
     "name": "stdout",
     "output_type": "stream",
     "text": [
      "Index: 0, Name: Alice, Age: 25\n",
      "Index: 1, Name: Bob, Age: 30\n",
      "Index: 2, Name: Charlie, Age: 35\n"
     ]
    }
   ],
   "source": [
    "# Iterarar com indice e linha\n",
    "for index, row in df.iterrows():\n",
    "    print(f\"Index: {index}, Name: {row['Name']}, Age: {row['Age']}\")"
   ]
  },
  {
   "cell_type": "markdown",
   "metadata": {},
   "source": [
    "- ****.apply()****: Use este método para aplicar uma função personalizada a uma série ou a todo o dataframe.\n",
    "\n",
    "  - quando você usa isso em série, cada elemento da coluna original será passado para a função.\n",
    "  \n",
    "  - quando você usa isso para todo o dataframe, com base no eixo (1 linha, 0 coluna), a linha inteira ou \n",
    "a coluna inteira será passada para a função."
   ]
  },
  {
   "cell_type": "code",
   "execution_count": null,
   "metadata": {},
   "outputs": [],
   "source": [
    "# Aplicando uma função personalizada a uma coluna\n",
    "def square(x):\n",
    "    return x ** 2 # pega o item e eleva ao 2\n",
    "\n",
    "# Isso criará uma nova coluna com o nome - \"Squared_Column\"\n",
    "df['Squared_Column'] = df['Original_Column'].apply(square)"
   ]
  },
  {
   "cell_type": "code",
   "execution_count": 11,
   "metadata": {},
   "outputs": [
    {
     "data": {
      "text/html": [
       "<div>\n",
       "<style scoped>\n",
       "    .dataframe tbody tr th:only-of-type {\n",
       "        vertical-align: middle;\n",
       "    }\n",
       "\n",
       "    .dataframe tbody tr th {\n",
       "        vertical-align: top;\n",
       "    }\n",
       "\n",
       "    .dataframe thead th {\n",
       "        text-align: right;\n",
       "    }\n",
       "</style>\n",
       "<table border=\"1\" class=\"dataframe\">\n",
       "  <thead>\n",
       "    <tr style=\"text-align: right;\">\n",
       "      <th></th>\n",
       "      <th>A</th>\n",
       "      <th>B</th>\n",
       "      <th>Row_Average</th>\n",
       "    </tr>\n",
       "  </thead>\n",
       "  <tbody>\n",
       "    <tr>\n",
       "      <th>0</th>\n",
       "      <td>1</td>\n",
       "      <td>4</td>\n",
       "      <td>2.5</td>\n",
       "    </tr>\n",
       "    <tr>\n",
       "      <th>1</th>\n",
       "      <td>2</td>\n",
       "      <td>5</td>\n",
       "      <td>3.5</td>\n",
       "    </tr>\n",
       "    <tr>\n",
       "      <th>2</th>\n",
       "      <td>3</td>\n",
       "      <td>6</td>\n",
       "      <td>4.5</td>\n",
       "    </tr>\n",
       "  </tbody>\n",
       "</table>\n",
       "</div>"
      ],
      "text/plain": [
       "   A  B  Row_Average\n",
       "0  1  4          2.5\n",
       "1  2  5          3.5\n",
       "2  3  6          4.5"
      ]
     },
     "execution_count": 11,
     "metadata": {},
     "output_type": "execute_result"
    }
   ],
   "source": [
    "# Exemplo DataFrame\n",
    "data = {'A': [1, 2, 3], 'B': [4, 5, 6]}\n",
    "df = pd.DataFrame(data)\n",
    "\n",
    "# função para calcular a média de uma linha\n",
    "def average_row(row):\n",
    "  return row.mean()\n",
    "\n",
    "# Aplique a função linha a linha (eixo=0). Para colunas, use (eixo = 1)\n",
    "df['Row_Average'] = df.apply(average_row, axis=1)\n",
    "\n",
    "df"
   ]
  },
  {
   "cell_type": "markdown",
   "metadata": {},
   "source": [
    "- ****.map()****: Este método aplica uma função a cada elemento de uma série. É particularmente útil para transformar uma coluna com base nos valores de outra."
   ]
  },
  {
   "cell_type": "code",
   "execution_count": null,
   "metadata": {},
   "outputs": [],
   "source": [
    "# Mapeando valores em uma coluna com base em um dicionário\n",
    "mapping_dict = {'A': 1, 'B': 2, 'C': 3}\n",
    "df['New_Column'] = df['Old_Column'].map(mapping_dict)"
   ]
  },
  {
   "cell_type": "markdown",
   "metadata": {},
   "source": [
    "- ****.applymap()****: Quando quiser aplicar uma função a cada elemento em todo o DataFrame, você pode usar .applymap()."
   ]
  },
  {
   "cell_type": "code",
   "execution_count": 13,
   "metadata": {},
   "outputs": [
    {
     "data": {
      "text/html": [
       "<div>\n",
       "<style scoped>\n",
       "    .dataframe tbody tr th:only-of-type {\n",
       "        vertical-align: middle;\n",
       "    }\n",
       "\n",
       "    .dataframe tbody tr th {\n",
       "        vertical-align: top;\n",
       "    }\n",
       "\n",
       "    .dataframe thead th {\n",
       "        text-align: right;\n",
       "    }\n",
       "</style>\n",
       "<table border=\"1\" class=\"dataframe\">\n",
       "  <thead>\n",
       "    <tr style=\"text-align: right;\">\n",
       "      <th></th>\n",
       "      <th>A</th>\n",
       "      <th>B</th>\n",
       "    </tr>\n",
       "  </thead>\n",
       "  <tbody>\n",
       "    <tr>\n",
       "      <th>0</th>\n",
       "      <td>11</td>\n",
       "      <td>14</td>\n",
       "    </tr>\n",
       "    <tr>\n",
       "      <th>1</th>\n",
       "      <td>12</td>\n",
       "      <td>15</td>\n",
       "    </tr>\n",
       "    <tr>\n",
       "      <th>2</th>\n",
       "      <td>13</td>\n",
       "      <td>16</td>\n",
       "    </tr>\n",
       "  </tbody>\n",
       "</table>\n",
       "</div>"
      ],
      "text/plain": [
       "    A   B\n",
       "0  11  14\n",
       "1  12  15\n",
       "2  13  16"
      ]
     },
     "execution_count": 13,
     "metadata": {},
     "output_type": "execute_result"
    }
   ],
   "source": [
    "# exemplo\n",
    "data = {'A': [1, 2, 3], 'B': [4, 5, 6]}\n",
    "df = pd.DataFrame(data)\n",
    "\n",
    "# function que adiciona 10 a um valor\n",
    "def add_10(x):\n",
    "    return x + 10\n",
    "\n",
    "# Apply the function to the entire DataFrame\n",
    "df = df.applymap(add_10)\n",
    "\n",
    "df"
   ]
  },
  {
   "cell_type": "markdown",
   "metadata": {},
   "source": [
    "#### 5.2 Adicionando e removendo colunas"
   ]
  },
  {
   "cell_type": "markdown",
   "metadata": {},
   "source": [
    "Você pode adicionar e remover colunas para personalizar seu DataFrame para análise:\n",
    "\n",
    "  - ****Adicionando Colunas****: Para adicionar uma nova coluna ou substituir uma existente, basta atribuir valores a ela.\n",
    "\n",
    "  - ****Removendo Colunas****: Use o método .drop() para remover colunas. Se deseja eliminar rótulos do índice (0 ou ‘índice’) ou colunas (1 ou ‘colunas’). Você pode usar axis=1/ ‘columns’ para eliminar a coluna ou usar axis =0/ ‘index’ para eliminar a linha."
   ]
  },
  {
   "cell_type": "code",
   "execution_count": null,
   "metadata": {},
   "outputs": [],
   "source": [
    "# Cria uma nova coluna com o nome New_Column\n",
    "df['New_Column'] = [1, 2, 3, 4]\n",
    "\n",
    "# Usando .drop() para remover colunas\n",
    "df.drop(['Column1', 'Column2'], axis=1, inplace=True)"
   ]
  },
  {
   "cell_type": "markdown",
   "metadata": {},
   "source": [
    "#### 5.3 Combinando DataFrames (Concatenation, Joining, Merging)"
   ]
  },
  {
   "cell_type": "markdown",
   "metadata": {},
   "source": [
    "Pandas oferece métodos poderosos para combinar DataFrames:\n",
    "\n",
    "- ****Concatenação****: Você pode concatenar DataFrames verticalmente ou horizontalmente usando pd.concat(). axis=0 irá concatená-los nas linhas, axis=1 irá concatená-los nas colunas. Ele verificará as colunas comuns entre os dataframes e as colunas correspondentes, concatenará nas linhas."
   ]
  },
  {
   "cell_type": "code",
   "execution_count": 16,
   "metadata": {},
   "outputs": [
    {
     "name": "stdout",
     "output_type": "stream",
     "text": [
      "   A   B    C    D\n",
      "0  1   4  1.0  NaN\n",
      "1  2   5  2.0  NaN\n",
      "2  3   6  3.0  NaN\n",
      "0  7  10  NaN  1.0\n",
      "1  8  11  NaN  2.0\n",
      "2  9  12  NaN  3.0\n"
     ]
    }
   ],
   "source": [
    "import pandas as pd\n",
    "\n",
    "# Exemplos de DataFrames com os mesmos nomes de coluna\n",
    "data1 = {'A': [1, 2, 3], 'B': [4, 5, 6], 'C':[1,2,3]}\n",
    "data2 = {'A': [7, 8, 9], 'B': [10, 11, 12], 'D':[1,2,3]}\n",
    "df1 = pd.DataFrame(data1)\n",
    "df2 = pd.DataFrame(data2)\n",
    "\n",
    "# Concatena df1 e df2 horizontalmente (ao longo das colunas) com os mesmos nomes de colunas\n",
    "result = pd.concat([df1, df2], axis=0)\n",
    "\n",
    "# Exibe o DataFrame concatenado\n",
    "print(result)\n",
    "\n",
    "# Tip: Para tornar o índice adequado, você pode usar -> result.reset_index(drop=True)"
   ]
  },
  {
   "cell_type": "markdown",
   "metadata": {},
   "source": [
    "****Joining****: você pode realizar junções semelhantes a SQL em DataFrames usando o método .merge().\n",
    "\n",
    "Merging: Pandas permite mesclar DataFrames com base em colunas comuns. Usando .merge(), você pode realizar várias junções amplamentes utilizadas na analise de dados como  inner, outer, left, and right joins.\n",
    "\n",
    "  - O ***Inner Join*** é um formato comum de join que retorna dados apenas quando as duas tabelas têm chaves correspondentes na cláusula ON do join;\n",
    "\n",
    "  - O ****Outer join****, também conhecido como FULL JOIN, retorna todos os registros de ambas as tabelas;\n",
    "\n",
    "  - O ****Left Join**** retorna todos os registros da Tabela A e apenas os registros que coincidem com a igualdade do join na Tabela B (ou campos nulos para os campos sem correspondência);\n",
    "\n",
    "  - O ****Right Join**** tem os mesmos efeitos que o Left Join, mas a tabela que retorna todos os registros é a Tabela B em vez da Tabela A."
   ]
  },
  {
   "cell_type": "code",
   "execution_count": 26,
   "metadata": {},
   "outputs": [
    {
     "name": "stdout",
     "output_type": "stream",
     "text": [
      "DataFrames\n",
      "   ID     Name\n",
      "0   1    Alice\n",
      "1   2      Bob\n",
      "2   3  Charlie\n",
      "-------------------\n",
      "   ID  Age\n",
      "0   2   25\n",
      "1   3   30\n",
      "2   4   22\n",
      "-------------------\n",
      "Inner Join - ON - ID\n",
      "   ID     Name  Age\n",
      "0   2      Bob   25\n",
      "1   3  Charlie   30\n",
      "-------------------\n",
      "Left Join - ON - ID\n",
      "   ID     Name   Age\n",
      "0   1    Alice   NaN\n",
      "1   2      Bob  25.0\n",
      "2   3  Charlie  30.0\n",
      "-------------------\n"
     ]
    },
    {
     "ename": "KeyError",
     "evalue": "'ID2'",
     "output_type": "error",
     "traceback": [
      "\u001b[1;31m---------------------------------------------------------------------------\u001b[0m",
      "\u001b[1;31mKeyError\u001b[0m                                  Traceback (most recent call last)",
      "\u001b[1;32m~\\AppData\\Local\\Temp/ipykernel_11772/2950011593.py\u001b[0m in \u001b[0;36m<module>\u001b[1;34m\u001b[0m\n\u001b[0;32m     29\u001b[0m \u001b[1;31m# you can specify them manually\u001b[0m\u001b[1;33m\u001b[0m\u001b[1;33m\u001b[0m\u001b[0m\n\u001b[0;32m     30\u001b[0m \u001b[1;31m# Considering, left table has ID1 and right table has ID2\u001b[0m\u001b[1;33m\u001b[0m\u001b[1;33m\u001b[0m\u001b[0m\n\u001b[1;32m---> 31\u001b[1;33m \u001b[0mpd\u001b[0m\u001b[1;33m.\u001b[0m\u001b[0mmerge\u001b[0m\u001b[1;33m(\u001b[0m\u001b[0mdf1\u001b[0m\u001b[1;33m,\u001b[0m\u001b[0mdf2\u001b[0m\u001b[1;33m,\u001b[0m \u001b[0mleft_on\u001b[0m\u001b[1;33m=\u001b[0m\u001b[1;34m\"ID1\"\u001b[0m\u001b[1;33m,\u001b[0m \u001b[0mright_on\u001b[0m\u001b[1;33m=\u001b[0m\u001b[1;34m\"ID2\"\u001b[0m\u001b[1;33m)\u001b[0m\u001b[1;33m\u001b[0m\u001b[1;33m\u001b[0m\u001b[0m\n\u001b[0m\u001b[0;32m     32\u001b[0m \u001b[1;33m\u001b[0m\u001b[0m\n\u001b[0;32m     33\u001b[0m \u001b[1;31m# Here it will try to match the left dataframe index with right ID column\u001b[0m\u001b[1;33m\u001b[0m\u001b[1;33m\u001b[0m\u001b[0m\n",
      "\u001b[1;32mc:\\Users\\saulo\\anaconda3\\lib\\site-packages\\pandas\\core\\reshape\\merge.py\u001b[0m in \u001b[0;36mmerge\u001b[1;34m(left, right, how, on, left_on, right_on, left_index, right_index, sort, suffixes, copy, indicator, validate)\u001b[0m\n\u001b[0;32m    104\u001b[0m     \u001b[0mvalidate\u001b[0m\u001b[1;33m:\u001b[0m \u001b[0mstr\u001b[0m \u001b[1;33m|\u001b[0m \u001b[1;32mNone\u001b[0m \u001b[1;33m=\u001b[0m \u001b[1;32mNone\u001b[0m\u001b[1;33m,\u001b[0m\u001b[1;33m\u001b[0m\u001b[1;33m\u001b[0m\u001b[0m\n\u001b[0;32m    105\u001b[0m ) -> DataFrame:\n\u001b[1;32m--> 106\u001b[1;33m     op = _MergeOperation(\n\u001b[0m\u001b[0;32m    107\u001b[0m         \u001b[0mleft\u001b[0m\u001b[1;33m,\u001b[0m\u001b[1;33m\u001b[0m\u001b[1;33m\u001b[0m\u001b[0m\n\u001b[0;32m    108\u001b[0m         \u001b[0mright\u001b[0m\u001b[1;33m,\u001b[0m\u001b[1;33m\u001b[0m\u001b[1;33m\u001b[0m\u001b[0m\n",
      "\u001b[1;32mc:\\Users\\saulo\\anaconda3\\lib\\site-packages\\pandas\\core\\reshape\\merge.py\u001b[0m in \u001b[0;36m__init__\u001b[1;34m(self, left, right, how, on, left_on, right_on, axis, left_index, right_index, sort, suffixes, copy, indicator, validate)\u001b[0m\n\u001b[0;32m    697\u001b[0m             \u001b[0mself\u001b[0m\u001b[1;33m.\u001b[0m\u001b[0mright_join_keys\u001b[0m\u001b[1;33m,\u001b[0m\u001b[1;33m\u001b[0m\u001b[1;33m\u001b[0m\u001b[0m\n\u001b[0;32m    698\u001b[0m             \u001b[0mself\u001b[0m\u001b[1;33m.\u001b[0m\u001b[0mjoin_names\u001b[0m\u001b[1;33m,\u001b[0m\u001b[1;33m\u001b[0m\u001b[1;33m\u001b[0m\u001b[0m\n\u001b[1;32m--> 699\u001b[1;33m         ) = self._get_merge_keys()\n\u001b[0m\u001b[0;32m    700\u001b[0m \u001b[1;33m\u001b[0m\u001b[0m\n\u001b[0;32m    701\u001b[0m         \u001b[1;31m# validate the merge keys dtypes. We may need to coerce\u001b[0m\u001b[1;33m\u001b[0m\u001b[1;33m\u001b[0m\u001b[0m\n",
      "\u001b[1;32mc:\\Users\\saulo\\anaconda3\\lib\\site-packages\\pandas\\core\\reshape\\merge.py\u001b[0m in \u001b[0;36m_get_merge_keys\u001b[1;34m(self)\u001b[0m\n\u001b[0;32m   1094\u001b[0m                     \u001b[1;32mif\u001b[0m \u001b[1;32mnot\u001b[0m \u001b[0mis_rkey\u001b[0m\u001b[1;33m(\u001b[0m\u001b[0mrk\u001b[0m\u001b[1;33m)\u001b[0m\u001b[1;33m:\u001b[0m\u001b[1;33m\u001b[0m\u001b[1;33m\u001b[0m\u001b[0m\n\u001b[0;32m   1095\u001b[0m                         \u001b[1;32mif\u001b[0m \u001b[0mrk\u001b[0m \u001b[1;32mis\u001b[0m \u001b[1;32mnot\u001b[0m \u001b[1;32mNone\u001b[0m\u001b[1;33m:\u001b[0m\u001b[1;33m\u001b[0m\u001b[1;33m\u001b[0m\u001b[0m\n\u001b[1;32m-> 1096\u001b[1;33m                             \u001b[0mright_keys\u001b[0m\u001b[1;33m.\u001b[0m\u001b[0mappend\u001b[0m\u001b[1;33m(\u001b[0m\u001b[0mright\u001b[0m\u001b[1;33m.\u001b[0m\u001b[0m_get_label_or_level_values\u001b[0m\u001b[1;33m(\u001b[0m\u001b[0mrk\u001b[0m\u001b[1;33m)\u001b[0m\u001b[1;33m)\u001b[0m\u001b[1;33m\u001b[0m\u001b[1;33m\u001b[0m\u001b[0m\n\u001b[0m\u001b[0;32m   1097\u001b[0m                         \u001b[1;32melse\u001b[0m\u001b[1;33m:\u001b[0m\u001b[1;33m\u001b[0m\u001b[1;33m\u001b[0m\u001b[0m\n\u001b[0;32m   1098\u001b[0m                             \u001b[1;31m# work-around for merge_asof(right_index=True)\u001b[0m\u001b[1;33m\u001b[0m\u001b[1;33m\u001b[0m\u001b[0m\n",
      "\u001b[1;32mc:\\Users\\saulo\\anaconda3\\lib\\site-packages\\pandas\\core\\generic.py\u001b[0m in \u001b[0;36m_get_label_or_level_values\u001b[1;34m(self, key, axis)\u001b[0m\n\u001b[0;32m   1777\u001b[0m             \u001b[0mvalues\u001b[0m \u001b[1;33m=\u001b[0m \u001b[0mself\u001b[0m\u001b[1;33m.\u001b[0m\u001b[0maxes\u001b[0m\u001b[1;33m[\u001b[0m\u001b[0maxis\u001b[0m\u001b[1;33m]\u001b[0m\u001b[1;33m.\u001b[0m\u001b[0mget_level_values\u001b[0m\u001b[1;33m(\u001b[0m\u001b[0mkey\u001b[0m\u001b[1;33m)\u001b[0m\u001b[1;33m.\u001b[0m\u001b[0m_values\u001b[0m\u001b[1;33m\u001b[0m\u001b[1;33m\u001b[0m\u001b[0m\n\u001b[0;32m   1778\u001b[0m         \u001b[1;32melse\u001b[0m\u001b[1;33m:\u001b[0m\u001b[1;33m\u001b[0m\u001b[1;33m\u001b[0m\u001b[0m\n\u001b[1;32m-> 1779\u001b[1;33m             \u001b[1;32mraise\u001b[0m \u001b[0mKeyError\u001b[0m\u001b[1;33m(\u001b[0m\u001b[0mkey\u001b[0m\u001b[1;33m)\u001b[0m\u001b[1;33m\u001b[0m\u001b[1;33m\u001b[0m\u001b[0m\n\u001b[0m\u001b[0;32m   1780\u001b[0m \u001b[1;33m\u001b[0m\u001b[0m\n\u001b[0;32m   1781\u001b[0m         \u001b[1;31m# Check for duplicates\u001b[0m\u001b[1;33m\u001b[0m\u001b[1;33m\u001b[0m\u001b[0m\n",
      "\u001b[1;31mKeyError\u001b[0m: 'ID2'"
     ]
    }
   ],
   "source": [
    "# Sample DataFrames\n",
    "df1 = pd.DataFrame({'ID': [1, 2, 3], 'Name': ['Alice', 'Bob', 'Charlie']})\n",
    "df2 = pd.DataFrame({'ID': [2, 3, 4], 'Age': [25, 30, 22]})\n",
    "\n",
    "# Display the merged DataFrame\n",
    "print(\"DataFrames\")\n",
    "print(df1)\n",
    "print('-------------------')\n",
    "print(df2)\n",
    "print('-------------------')\n",
    "\n",
    "# Inner join on 'ID'\n",
    "result = pd.merge(df1, df2, on='ID', how='inner')\n",
    "\n",
    "# Display the merged DataFrame\n",
    "print(\"Inner Join - ON - ID\")\n",
    "print(result)\n",
    "print('-------------------')\n",
    "\n",
    "# Left join on 'ID'\n",
    "result = pd.merge(df1, df2, on='ID', how='left')\n",
    "\n",
    "# Display the merged DataFrame\n",
    "print(\"Left Join - ON - ID\")\n",
    "print(result)\n",
    "print('-------------------')\n",
    "\n",
    "# If matching column names are different from both data frames\n",
    "# you can specify them manually\n",
    "# Considering, left table has ID1 and right table has ID2\n",
    "pd.merge(df1,df2, left_on=\"ID1\", right_on=\"ID2\")\n",
    "\n",
    "# Here it will try to match the left dataframe index with right ID column\n",
    "pd.merge(df1,df2, left_index=True,right_on=\"ID\")"
   ]
  },
  {
   "cell_type": "markdown",
   "metadata": {},
   "source": [
    "## Referencias \n",
    "\n",
    "- [Documentação oficial do Pandas](pandas.pydata.org);\n",
    "\n",
    "- [Pandas Demystified: A Comprehensive Handbook for Data Enthusiasts](https://medium.com/python-in-plain-english/pandas-demystified-a-comprehensive-handbook-for-data-enthusiasts-part-1-136127e407f);"
   ]
  }
 ],
 "metadata": {
  "kernelspec": {
   "display_name": "Python 3.9.7 ('base')",
   "language": "python",
   "name": "python3"
  },
  "language_info": {
   "codemirror_mode": {
    "name": "ipython",
    "version": 3
   },
   "file_extension": ".py",
   "mimetype": "text/x-python",
   "name": "python",
   "nbconvert_exporter": "python",
   "pygments_lexer": "ipython3",
   "version": "3.9.7"
  },
  "orig_nbformat": 4,
  "vscode": {
   "interpreter": {
    "hash": "d2e1d33da72719cd1e919dcc73d377510ed7034fcb2260b88e34aa23ca01e74f"
   }
  }
 },
 "nbformat": 4,
 "nbformat_minor": 2
}
